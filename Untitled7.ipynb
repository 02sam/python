{
  "nbformat": 4,
  "nbformat_minor": 0,
  "metadata": {
    "colab": {
      "name": "Untitled7.ipynb",
      "provenance": [],
      "authorship_tag": "ABX9TyMduvwdvgWoT23n8dBpw/eI",
      "include_colab_link": true
    },
    "kernelspec": {
      "name": "python3",
      "display_name": "Python 3"
    }
  },
  "cells": [
    {
      "cell_type": "markdown",
      "metadata": {
        "id": "view-in-github",
        "colab_type": "text"
      },
      "source": [
        "<a href=\"https://colab.research.google.com/github/02sam/python/blob/master/Untitled7.ipynb\" target=\"_parent\"><img src=\"https://colab.research.google.com/assets/colab-badge.svg\" alt=\"Open In Colab\"/></a>"
      ]
    },
    {
      "cell_type": "code",
      "metadata": {
        "id": "us8ed6Et6f4Y",
        "colab_type": "code",
        "colab": {
          "base_uri": "https://localhost:8080/",
          "height": 34
        },
        "outputId": "f7e61ec1-2002-4c52-ec9a-288f3a43d5e6"
      },
      "source": [
        ""
      ],
      "execution_count": null,
      "outputs": [
        {
          "output_type": "stream",
          "text": [
            "userNameOne\n"
          ],
          "name": "stdout"
        }
      ]
    },
    {
      "cell_type": "markdown",
      "metadata": {
        "id": "eL1mbVdl-Ytj",
        "colab_type": "text"
      },
      "source": [
        "1] print function\n",
        "2] escape sequence\n",
        "3] escape sequennce as noemal text\n",
        "4] paython as calculator\n",
        "5] variables\n",
        "6] naming rules for variables\n",
        "7] convantion for variable\n",
        "\n",
        "8] use of  # for comments\n"
      ]
    },
    {
      "cell_type": "markdown",
      "metadata": {
        "id": "ntnZf0sq86kx",
        "colab_type": "text"
      },
      "source": [
        "cammell  case writing userOneName "
      ]
    },
    {
      "cell_type": "code",
      "metadata": {
        "id": "6gX08Pk-lADu",
        "colab_type": "code",
        "colab": {
          "base_uri": "https://localhost:8080/",
          "height": 34
        },
        "outputId": "743924f7-d072-40ea-a580-d28a1f69091d"
      },
      "source": [
        "print(2**3**2)"
      ],
      "execution_count": null,
      "outputs": [
        {
          "output_type": "stream",
          "text": [
            "512\n"
          ],
          "name": "stdout"
        }
      ]
    },
    {
      "cell_type": "code",
      "metadata": {
        "id": "vGrbq3UenhZW",
        "colab_type": "code",
        "colab": {
          "base_uri": "https://localhost:8080/",
          "height": 34
        },
        "outputId": "e03db510-119b-4ab2-9b1e-7ac95b470caf"
      },
      "source": [
        "first_name =\"sameer\"\n",
        "last_name = \" phadnis\"       # variable is converted in string\n",
        "full_name = first_name + \"2\"     \n",
        "print(first_name *3)"
      ],
      "execution_count": null,
      "outputs": [
        {
          "output_type": "stream",
          "text": [
            "sameersameersameer\n"
          ],
          "name": "stdout"
        }
      ]
    },
    {
      "cell_type": "markdown",
      "metadata": {
        "id": "Vble4atb78QM",
        "colab_type": "text"
      },
      "source": [
        "concatination - 2 strings are join by using the sign +\n",
        "string is only ttached with the string's"
      ]
    },
    {
      "cell_type": "code",
      "metadata": {
        "id": "2CATEL4q9BJe",
        "colab_type": "code",
        "colab": {
          "base_uri": "https://localhost:8080/",
          "height": 51
        },
        "outputId": "28c48ae2-ca2e-47d4-a182-9875309b93ad"
      },
      "source": [
        "# input function\n",
        "name = input (\"type your name\")\n",
        "print(\"hellow\" + name)"
      ],
      "execution_count": null,
      "outputs": [
        {
          "output_type": "stream",
          "text": [
            "type your name sameer\n",
            "hellow sameer\n"
          ],
          "name": "stdout"
        }
      ]
    },
    {
      "cell_type": "markdown",
      "metadata": {
        "id": "8Vw_SW33-eFS",
        "colab_type": "text"
      },
      "source": [
        "input function always take input in strings "
      ]
    },
    {
      "cell_type": "code",
      "metadata": {
        "id": "3DZRPaXHX4A2",
        "colab_type": "code",
        "colab": {
          "base_uri": "https://localhost:8080/",
          "height": 68
        },
        "outputId": "5cddda8f-2bc3-41e1-db86-ec2559dd2723"
      },
      "source": [
        "number_one = int(input(\"enter the first number\"))\n",
        "number_two = int(input(\"enter the secound number\"))\n",
        "total = number_one+number_two\n",
        "print(\"total is\" + str(total))\n"
      ],
      "execution_count": null,
      "outputs": [
        {
          "output_type": "stream",
          "text": [
            "enter the first number5\n",
            "enter the secound number5\n",
            "total is10\n"
          ],
          "name": "stdout"
        }
      ]
    },
    {
      "cell_type": "markdown",
      "metadata": {
        "id": "uRcubU6_ZwTu",
        "colab_type": "text"
      },
      "source": [
        "str use for the string function \n",
        "int function is used to convert the string in the number\n",
        "float function is used to convert in the number ex(\"4\" = 4.0)"
      ]
    },
    {
      "cell_type": "code",
      "metadata": {
        "id": "4vV0r8Dra-XN",
        "colab_type": "code",
        "colab": {
          "base_uri": "https://localhost:8080/",
          "height": 34
        },
        "outputId": "0ac0811b-216e-4176-9e5b-b0dc78092a5f"
      },
      "source": [
        "name,age =\" sameer\",\" 22\" # multiple variable decleration\n",
        "print(\"hellow\" + name + \" your age is\"+age)"
      ],
      "execution_count": null,
      "outputs": [
        {
          "output_type": "stream",
          "text": [
            "hellow sameer your age is 22\n"
          ],
          "name": "stdout"
        }
      ]
    },
    {
      "cell_type": "code",
      "metadata": {
        "id": "VGfSJ-zAb-Y0",
        "colab_type": "code",
        "colab": {
          "base_uri": "https://localhost:8080/",
          "height": 34
        },
        "outputId": "f2d225f2-4bb6-4974-d19e-d0e8b5bbe275"
      },
      "source": [
        "x=y=z=1 # multiple variables having same value\n",
        "print(x+y+z)"
      ],
      "execution_count": null,
      "outputs": [
        {
          "output_type": "stream",
          "text": [
            "3\n"
          ],
          "name": "stdout"
        }
      ]
    },
    {
      "cell_type": "code",
      "metadata": {
        "id": "ARlYmr2ic3Jp",
        "colab_type": "code",
        "colab": {}
      },
      "source": [
        ""
      ],
      "execution_count": null,
      "outputs": []
    },
    {
      "cell_type": "code",
      "metadata": {
        "id": "RYU-YAswcMnS",
        "colab_type": "code",
        "colab": {
          "base_uri": "https://localhost:8080/",
          "height": 68
        },
        "outputId": "dc288b1a-d99d-41dd-93f7-59e6b73474d8"
      },
      "source": [
        "name,age=input(\"enter your name and age\").split(\",\") # many input taking single input\n",
        "print(name)\n",
        "print(age)"
      ],
      "execution_count": null,
      "outputs": [
        {
          "output_type": "stream",
          "text": [
            "enter your name and agesameer,22\n",
            "sameer\n",
            "22\n"
          ],
          "name": "stdout"
        }
      ]
    },
    {
      "cell_type": "markdown",
      "metadata": {
        "id": "slt86PxHdoCm",
        "colab_type": "text"
      },
      "source": [
        "string formating \n",
        "paython 2\n",
        "paython 3 .format \n",
        "paython 3.6 direct u can write things\n",
        "\n",
        "---\n",
        "\n"
      ]
    },
    {
      "cell_type": "code",
      "metadata": {
        "id": "vhnmZqLAfba8",
        "colab_type": "code",
        "colab": {
          "base_uri": "https://localhost:8080/",
          "height": 85
        },
        "outputId": "aa0cc570-5bc6-4c05-b178-a0fa187c8b58"
      },
      "source": [
        "number_one =int(input(\"enter the first number\"))\n",
        "number_two = int(input(\"enter the secound number\"))\n",
        "number_three = int(input(\"enter the thired number\"))\n",
        "total = number_one + number_two+number_three\n",
        "avg = total/3\n",
        "print(avg)"
      ],
      "execution_count": null,
      "outputs": [
        {
          "output_type": "stream",
          "text": [
            "enter the first number5\n",
            "enter the secound number6\n",
            "enter the thired number3\n",
            "4.666666666666667\n"
          ],
          "name": "stdout"
        }
      ]
    },
    {
      "cell_type": "markdown",
      "metadata": {
        "id": "3H483ZtOg-7o",
        "colab_type": "text"
      },
      "source": [
        "string indexing\n",
        "the positions of strings by the index number"
      ]
    },
    {
      "cell_type": "code",
      "metadata": {
        "id": "RCh4qM3MhUr5",
        "colab_type": "code",
        "colab": {
          "base_uri": "https://localhost:8080/",
          "height": 34
        },
        "outputId": "1a9dbca3-9f22-4905-d0a1-d82989a34bbe"
      },
      "source": [
        "language = \"python\"\n",
        "print(language[4])"
      ],
      "execution_count": null,
      "outputs": [
        {
          "output_type": "stream",
          "text": [
            "o\n"
          ],
          "name": "stdout"
        }
      ]
    }
  ]
}